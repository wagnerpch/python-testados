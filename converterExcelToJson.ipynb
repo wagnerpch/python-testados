{
 "cells": [
  {
   "cell_type": "code",
   "execution_count": null,
   "id": "72086927-6b9c-49f2-81dd-5bd56958b137",
   "metadata": {},
   "outputs": [],
   "source": [
    "#!pip install pandas\n",
    "#!pip install openpyxl\n",
    "\n",
    "import pandas as pd\n",
    "import json\n",
    "\n",
    "df = pd.read_excel(r\"C:\\exemplo\\arquivo.xlsx\")  # Para arquivos XLSX\n",
    "# df = pd.read_csv(\"arquivo.csv\", delimiter=\"\\t\")  # Para arquivos CSV\n",
    "\n",
    "# para tipar uma coluna no formato inteiro, as demais colunas permancem como string\n",
    "df = df.astype({col: str for col in df.columns if col != \"exemplo\"})\n",
    "df[\"exemplo\"] = df[\"exemplo\"].astype(int)\n",
    "\n",
    "json_result = df.to_json(orient=\"records\", indent=4)\n",
    "\n",
    "#salva o arquivo no mesmo diretorio do df\n",
    "with open(\"resultado.json\", \"w\", encoding=\"utf-8\") as f:\n",
    "    f.write(json_result)\n",
    "\n",
    "print(json_result)\n"
   ]
  }
 ],
 "metadata": {
  "kernelspec": {
   "display_name": "Python 3 (ipykernel)",
   "language": "python",
   "name": "python3"
  },
  "language_info": {
   "codemirror_mode": {
    "name": "ipython",
    "version": 3
   },
   "file_extension": ".py",
   "mimetype": "text/x-python",
   "name": "python",
   "nbconvert_exporter": "python",
   "pygments_lexer": "ipython3",
   "version": "3.13.1"
  }
 },
 "nbformat": 4,
 "nbformat_minor": 5
}
